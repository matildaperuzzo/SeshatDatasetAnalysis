{
 "cells": [
  {
   "cell_type": "code",
   "execution_count": 1,
   "metadata": {},
   "outputs": [],
   "source": [
    "import sys\n",
    "import os\n",
    "\n",
    "# Add the src directory to the Python path\n",
    "sys.path.append(os.path.abspath(os.path.join('..', 'src')))\n",
    "\n",
    "# Now you can import the TimeSeriesDataset class\n",
    "from TimeSeriesDataset import TimeSeriesDataset as TSD"
   ]
  },
  {
   "cell_type": "code",
   "execution_count": 2,
   "metadata": {},
   "outputs": [
    {
     "name": "stdout",
     "output_type": "stream",
     "text": [
      "Downloaded 839 rows\n",
      "Downloaded 464 rows\n",
      "Downloaded sc/polity-territories dataset with 464 rows in 17.97377109527588 seconds\n",
      "Downloaded 467 rows\n",
      "Downloaded sc/polity-populations dataset with 467 rows in 19.182642936706543 seconds\n",
      "Downloaded 492 rows\n",
      "Downloaded sc/population-of-the-largest-settlements dataset with 492 rows in 19.452756881713867 seconds\n",
      "Downloaded 474 rows\n",
      "Downloaded sc/settlement-hierarchies dataset with 474 rows in 19.21174120903015 seconds\n",
      "Downloaded 451 rows\n",
      "Downloaded sc/administrative-levels dataset with 451 rows in 19.21471071243286 seconds\n",
      "Downloaded 351 rows\n",
      "Downloaded sc/religious-levels dataset with 351 rows in 14.360487699508667 seconds\n",
      "Downloaded 364 rows\n",
      "Downloaded sc/military-levels dataset with 364 rows in 15.064994812011719 seconds\n"
     ]
    }
   ],
   "source": [
    "# initialize dataset by downloading dataset or downloading the data from polity_url\n",
    "dataset = TSD(categories=['sc'])\n",
    "# download all datasets\n",
    "dataset.download_all_categories()"
   ]
  },
  {
   "cell_type": "code",
   "execution_count": null,
   "metadata": {},
   "outputs": [],
   "source": [
    "\n",
    "# remove all rows that have less than 30% of the columns filled in\n",
    "# dataset.remove_incomplete_rows(nan_threshold=0.3)\n",
    "# build the social complexity variables\n",
    "dataset.build_social_complexity()\n",
    "dataset.impute_missing_values()\n",
    "print(\"Done\")"
   ]
  }
 ],
 "metadata": {
  "kernelspec": {
   "display_name": ".venv",
   "language": "python",
   "name": "python3"
  },
  "language_info": {
   "codemirror_mode": {
    "name": "ipython",
    "version": 3
   },
   "file_extension": ".py",
   "mimetype": "text/x-python",
   "name": "python",
   "nbconvert_exporter": "python",
   "pygments_lexer": "ipython3",
   "version": "3.11.9"
  }
 },
 "nbformat": 4,
 "nbformat_minor": 2
}
