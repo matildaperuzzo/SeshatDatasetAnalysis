{
 "cells": [
  {
   "cell_type": "code",
   "execution_count": 36,
   "id": "03a1a065",
   "metadata": {},
   "outputs": [],
   "source": [
    "import sys\n",
    "import os\n",
    "import pandas as pd\n",
    "import numpy as np\n",
    "from matplotlib import pyplot as plt\n",
    "# Add the src directory to the Python path\n",
    "sys.path.append(os.path.abspath(os.path.join('..')))\n",
    "# Now you can import the TimeSeriesDataset class\n",
    "from src.TimeSeriesDataset import TimeSeriesDataset as TSD\n",
    "from src.utils import download_data"
   ]
  },
  {
   "cell_type": "code",
   "execution_count": 37,
   "id": "72463e03",
   "metadata": {},
   "outputs": [],
   "source": [
    "equinox_df = pd.read_excel(\"../datasets/Equinox2020.05.2023.xlsx\", engine='openpyxl')"
   ]
  },
  {
   "cell_type": "code",
   "execution_count": 38,
   "id": "74d8dc9e",
   "metadata": {},
   "outputs": [],
   "source": [
    "\n",
    "col_replacements={'nga': 'PolityName', \n",
    "        'nga-time': 'Year', \n",
    "        'polity-population':'polity-populations', \n",
    "        'polity-territory':'polity-territories', \n",
    "        'population-of-the-largest-settlement':'population-of-the-largest-settlements',\n",
    "        'settlement-hierarchy':'settlement-hierarchies',\n",
    "        'professional-priesthood':'professional-priesthoods',\n",
    "        'examination-system':'examination-systems',\n",
    "        'formal-legal-code':'formal-legal-codes',\n",
    "        'merit-promotion':'merit-promotions',\n",
    "        'drinking-water-supply-systems':'drinking-water-supplies',\n",
    "        'general-postal-service':'general-postal-services',\n",
    "        'script':'scripts',\n",
    "        'phonetic-alphabetic-writing':'phonetic-alphabetic-writings',\n",
    "        'non-phonetic-alphabetic-writing':'non-phonetic-writings',\n",
    "        'calendar':'calendars',\n",
    "        'scientific-literature':'scientific-literatures',\n",
    "        'history':'histories',\n",
    "        'religious-literature':'religious-literatures',\n",
    "        'fiction':'fictions',\n",
    "        'practical-literature':'practical-literatures',\n",
    "        'philosophy':'philosophies',\n",
    "        'paper-currency':'paper-currencies',\n",
    "        'non-phonetic-writing':'non-phonetic-writings', \n",
    "        'copper':'coppers', \n",
    "        'bronze':'bronzes', \n",
    "        'iron':'irons',\n",
    "        'steel':'steels', \n",
    "        'atlatl':'atlatls', \n",
    "        'self-bow':'self-bows', \n",
    "        'composite-bow':'composite-bows', \n",
    "        'crossbow':'crossbows', \n",
    "        'gunpowder-siege-artillery':'gunpowder-siege-artilleries', \n",
    "        'leather-cloth':'leathers', \n",
    "        'limb-protection':'limb-protections', \n",
    "        'scaled-armor':'scaled-armors', \n",
    "        'laminar-armor':'laminar-armors',\n",
    "        'plate-armor':'plate-armors', \n",
    "        'settlements-in-a-defensive-position':'settlement-in-defensive-positions', \n",
    "        'ditch':'ditches', \n",
    "        'moat':'moats', \n",
    "        'stone-walls-(non-mortared)':'stone-walls-non-mortared', \n",
    "        'stone-walls-(mortared)':'stone-walls-mortared', \n",
    "        'chainmail':'chainmails'\n",
    "        }\n",
    "\n",
    "def column_name(name):\n",
    "    new_name = name.replace(\" \", \"-\")\n",
    "    new_name = new_name.lower()\n",
    "    if new_name in col_replacements:\n",
    "        new_name = col_replacements[new_name]\n",
    "    return new_name"
   ]
  },
  {
   "cell_type": "code",
   "execution_count": 39,
   "id": "71412100",
   "metadata": {},
   "outputs": [],
   "source": [
    "old_columns = equinox_df.Variable.apply(column_name)\n",
    "\n"
   ]
  },
  {
   "cell_type": "code",
   "execution_count": 40,
   "id": "12f12c63",
   "metadata": {},
   "outputs": [
    {
     "data": {
      "text/plain": [
       "array(['ra', 'original-name', 'alternative-names', 'peak-date',\n",
       "       'duration', 'degree-of-centralization', 'supra-polity-relations',\n",
       "       'preceding-(quasi)polity',\n",
       "       'relationship-to-preceding-(quasi)polity',\n",
       "       'succeeding-(quasi)polity', 'capital', 'language',\n",
       "       'polity-territories', 'settlement-hierarchies',\n",
       "       'administrative-levels', 'religious-levels', 'military-levels',\n",
       "       'professional-military-officers', 'professional-soldiers',\n",
       "       'professional-priesthoods', 'full-time-bureaucrats',\n",
       "       'examination-systems', 'merit-promotions',\n",
       "       'specialized-government-buildings', 'formal-legal-codes', 'judges',\n",
       "       'courts', 'professional-lawyers', 'irrigation-systems',\n",
       "       'drinking-water-supplies', 'markets', 'food-storage-sites',\n",
       "       'roads', 'bridges', 'canals', 'ports', 'nonwritten-records',\n",
       "       'written-records', 'scripts', 'non-phonetic-writings',\n",
       "       'phonetic-alphabetic-writings', 'lists-tables-and-classifications',\n",
       "       'calendars', 'sacred-texts', 'religious-literatures',\n",
       "       'practical-literatures', 'histories', 'philosophies', 'fictions',\n",
       "       'articles', 'tokens', 'foreign-coins', 'indigenous-coins',\n",
       "       'paper-currencies', 'couriers', 'postal-stations',\n",
       "       'general-postal-services', 'coppers', 'bronzes', 'irons', 'steels',\n",
       "       'javelins', 'atlatls', 'slings', 'self-bows', 'composite-bows',\n",
       "       'crossbows', 'tension-siege-engines', 'sling-siege-engines',\n",
       "       'gunpowder-siege-artilleries', 'handheld-firearms', 'war-clubs',\n",
       "       'battle-axes', 'daggers', 'swords', 'spears', 'polearms', 'dogs',\n",
       "       'donkeys', 'horses', 'camels', 'wood-bark-etc', 'leathers',\n",
       "       'shields', 'helmets', 'breastplates', 'limb-protections',\n",
       "       'scaled-armors', 'laminar-armors', 'plate-armors',\n",
       "       'small-vessels-(canoes-etc)',\n",
       "       'merchant-ships-pressed-into-service',\n",
       "       'specialized-military-vessels',\n",
       "       'settlement-in-defensive-positions', 'wooden-palisades',\n",
       "       'earth-ramparts', 'ditches', 'moats', 'stone-walls-non-mortared',\n",
       "       'stone-walls-mortared', 'fortified-camps',\n",
       "       'complex-fortifications', 'long-walls', 'modern-fortifications',\n",
       "       'elite-status-is-hereditary', 'rulers-are-legitimated-by-gods',\n",
       "       'rulers-are-gods', 'ideological-reinforcement-of-equality',\n",
       "       'ideological-thought-equates-rulers-and-commoners',\n",
       "       'ideological-thought-equates-elites-and-commoners',\n",
       "       'ideology-reinforces-prosociality', 'production-of-public-goods',\n",
       "       'moral-concern-is-primary', 'moralizing-enforcement-is-certain',\n",
       "       'moralizing-norms-are-broad', 'moralizing-enforcement-is-targeted',\n",
       "       'moralizing-enforcement-of-rulers',\n",
       "       'moralizing-religion-adopted-by-elites',\n",
       "       'moralizing-religion-adopted-by-commoners',\n",
       "       'moralizing-enforcement-in-afterlife',\n",
       "       'moralizing-enforcement-in-this-life',\n",
       "       'moralizing-enforcement-is-agentic', 'mines-or-quarries',\n",
       "       'scientific-literatures', 'precious-metals', 'elephants',\n",
       "       'chainmails', 'supracultural-entity',\n",
       "       'scale-of-supra-cultural-interaction', 'polity-populations',\n",
       "       'population-of-the-largest-settlements', 'mnemonic-devices',\n",
       "       'constraint-on-executive-by-government',\n",
       "       'constraint-on-executive-by-non-government', 'impeachment'],\n",
       "      dtype=object)"
      ]
     },
     "execution_count": 40,
     "metadata": {},
     "output_type": "execute_result"
    }
   ],
   "source": [
    "old_columns.unique()"
   ]
  },
  {
   "cell_type": "code",
   "execution_count": null,
   "id": "7fad0105",
   "metadata": {},
   "outputs": [
    {
     "name": "stdout",
     "output_type": "stream",
     "text": [
      "Dataset loaded from ../datasets\\100_yr_dataset.xlsx\n"
     ]
    }
   ],
   "source": [
    "dataset_100y = TSD(categories=['sc','wf'], file_path=\"../datasets/100_yr_dataset.csv\")\n",
    "new_columns = dataset_100y.raw.columns[4:]"
   ]
  },
  {
   "cell_type": "code",
   "execution_count": 42,
   "id": "d33d0a32",
   "metadata": {},
   "outputs": [
    {
     "name": "stdout",
     "output_type": "stream",
     "text": [
      "Missing columns:\n",
      "['other-animals']\n"
     ]
    }
   ],
   "source": [
    "#find new columns that are not in the old columns\n",
    "missing_columns = []\n",
    "for col in new_columns:\n",
    "    if col not in old_columns.values:\n",
    "        missing_columns.append(col)\n",
    "print(\"Missing columns:\")\n",
    "print(missing_columns)"
   ]
  },
  {
   "cell_type": "code",
   "execution_count": null,
   "id": "155524ed",
   "metadata": {},
   "outputs": [],
   "source": [
    " "
   ]
  }
 ],
 "metadata": {
  "kernelspec": {
   "display_name": ".venv",
   "language": "python",
   "name": "python3"
  },
  "language_info": {
   "codemirror_mode": {
    "name": "ipython",
    "version": 3
   },
   "file_extension": ".py",
   "mimetype": "text/x-python",
   "name": "python",
   "nbconvert_exporter": "python",
   "pygments_lexer": "ipython3",
   "version": "3.8.8"
  }
 },
 "nbformat": 4,
 "nbformat_minor": 5
}
