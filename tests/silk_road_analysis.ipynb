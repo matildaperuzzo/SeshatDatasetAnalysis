{
 "cells": [
  {
   "cell_type": "code",
   "execution_count": null,
   "metadata": {},
   "outputs": [],
   "source": [
    "import sys\n",
    "import os\n",
    "import numpy as np\n",
    "import pandas as pd\n",
    "import matplotlib.pyplot as plt\n",
    "sys.path.append(os.path.abspath(os.path.join(os.getcwd(), '..')))\n",
    "from src.mappings import PT_value_mapping\n",
    "from src.TimeSeriesDataset import TimeSeriesDataset as TSD\n",
    "from src.mappings import value_mapping, ideology_mapping, social_complexity_mapping\n"
   ]
  },
  {
   "cell_type": "code",
   "execution_count": null,
   "metadata": {},
   "outputs": [],
   "source": [
    "dataset = TSD(file_path='../datasets/100_yr_dataset.xlsx')\n",
    "exchanges_df = pd.read_csv('../datasets/exchanges.csv')"
   ]
  },
  {
   "cell_type": "code",
   "execution_count": null,
   "metadata": {},
   "outputs": [],
   "source": [
    "exchange_polities = exchanges_df.PolityID.unique()\n",
    "dataset.scv['exchange'] = 0\n",
    "dataset.raw['exchange'] = 0\n",
    "dataset.scv.loc[dataset.scv.PolityName.isin(exchange_polities), 'exchange'] = 1\n",
    "dataset.raw.loc[dataset.raw.PolityName.isin(exchange_polities), 'exchange'] = 1"
   ]
  },
  {
   "cell_type": "code",
   "execution_count": null,
   "metadata": {},
   "outputs": [],
   "source": [
    "from sklearn.impute import KNNImputer\n",
    "from sklearn.preprocessing import StandardScaler\n",
    "\n",
    "scaler = StandardScaler()\n",
    "pca_cols = ['Pop', 'Terr', 'Cap', 'Hierarchy', 'Government', 'Infrastructure', 'Information', 'Money']\n",
    "df = dataset.scv[pca_cols]\n",
    "imputer = KNNImputer(n_neighbors=10, weights='uniform')\n",
    "\n",
    "# Scale numerical features\n",
    "scaled_data = scaler.fit_transform(df)\n",
    "\n",
    "# Apply KNN imputation\n",
    "imputed_data = imputer.fit_transform(scaled_data)\n",
    "\n",
    "# Transform back to original scale\n",
    "final_data = scaler.inverse_transform(imputed_data)\n",
    "\n",
    "# Convert back to DataFrame with original columns\n",
    "imputed_df = pd.DataFrame(final_data, columns=df.columns, index=df.index)\n",
    "dataset.scv_imputed = dataset.scv.copy()\n",
    "dataset.scv_imputed[pca_cols] = imputed_df[pca_cols]"
   ]
  },
  {
   "cell_type": "code",
   "execution_count": null,
   "metadata": {},
   "outputs": [],
   "source": [
    "dataset.compute_PCA(cols = pca_cols, col_name = 'PC', n_cols = 1, n_PCA= len(pca_cols), contributions=True, rescale=True)"
   ]
  },
  {
   "cell_type": "code",
   "execution_count": null,
   "metadata": {},
   "outputs": [],
   "source": [
    "import seaborn as sns\n",
    "sc_cols = ['Pop','Terr','Cap','Hierarchy','Government','Information','Infrastructure','Money']\n",
    "plot_df = dataset.scv_imputed#.drop_duplicates(subset=sc_cols+['exchange'])\n",
    "\n",
    "\n",
    "\n",
    "# Create pairplot with custom alpha per exchange\n",
    "g = sns.pairplot(\n",
    "    data=plot_df[sc_cols+['exchange']], \n",
    "    hue='exchange',\n",
    "    diag_kind='hist',\n",
    "    plot_kws={'alpha': 0.3},\n",
    "    markers='o',\n",
    "    size=5,\n",
    "    height=2\n",
    ")\n",
    "\n",
    "plt.show()"
   ]
  },
  {
   "cell_type": "code",
   "execution_count": null,
   "metadata": {},
   "outputs": [],
   "source": [
    "dataset.imputation_fits.R2.hist()\n",
    "plt.xlabel('R2')\n",
    "plt.ylabel('Frequency')\n",
    "plt.show()\n",
    "\n",
    "sns.histplot(data=dataset.scv, x='Year', hue='exchange', multiple='stack')\n",
    "plt.xlabel('Year')\n",
    "plt.ylabel('Frequency')\n",
    "plt.show()"
   ]
  },
  {
   "cell_type": "code",
   "execution_count": null,
   "metadata": {},
   "outputs": [],
   "source": [
    "dataset_exchange = TSD(file_path='../datasets/25_yr_dataset.xlsx')\n",
    "exchange_polities = exchanges_df.PolityID.unique()\n",
    "dataset_exchange.scv['exchange'] = 0\n",
    "dataset_exchange.scv.loc[dataset_exchange.scv.PolityName.isin(exchange_polities), 'exchange'] = 1\n",
    "\n",
    "dataset_exchange.scv = dataset_exchange.scv.loc[dataset_exchange.scv.PolityName.isin(exchange_polities)]"
   ]
  },
  {
   "cell_type": "code",
   "execution_count": null,
   "metadata": {},
   "outputs": [],
   "source": [
    "\n",
    "pca_cols = ['Pop', 'Terr', 'Cap', 'Hierarchy', 'Government', 'Infrastructure', 'Information', 'Money']\n",
    "dataset_exchange.impute_missing_values(pca_cols)\n"
   ]
  },
  {
   "cell_type": "code",
   "execution_count": null,
   "metadata": {},
   "outputs": [],
   "source": [
    "dataset_exchange.compute_PCA(cols = pca_cols, col_name = 'PCA', n_cols = 2, n_PCA= len(pca_cols))\n",
    "dataset_exchange.scv_imputed['exchange'] = dataset_exchange.scv['exchange']"
   ]
  },
  {
   "cell_type": "code",
   "execution_count": null,
   "metadata": {},
   "outputs": [],
   "source": [
    "import seaborn as sns\n",
    "sc_cols = ['Pop','Terr','Cap','Hierarchy','Government','Information','Infrastructure','Money']\n",
    "\n",
    "dataset_exchange.scv_imputed['imputed'] = 0\n",
    "dataset_exchange.scv_imputed.loc[dataset_exchange.scv[sc_cols].isna().sum(axis=1)>0,'imputed'] = 1\n",
    "plot_df = dataset_exchange.scv_imputed#.drop_duplicates(subset=sc_cols+['exchange'])\n",
    "\n",
    "# Create pairplot with custom alpha per exchange\n",
    "g = sns.pairplot(\n",
    "    data=plot_df[sc_cols+['imputed']], \n",
    "    hue='imputed',\n",
    "    diag_kind='hist',\n",
    "    plot_kws={'alpha': 0.3},\n",
    "    markers='o',\n",
    "    size=3,\n",
    "    height=2\n",
    ")\n",
    "\n",
    "plt.show()"
   ]
  },
  {
   "cell_type": "code",
   "execution_count": null,
   "metadata": {},
   "outputs": [],
   "source": [
    "dataset.imputation_fits.R2.hist()\n",
    "dataset_exchange.imputation_fits.R2.hist()\n",
    "plt.xlabel('R2')\n",
    "plt.ylabel('Frequency')\n",
    "plt.show()"
   ]
  },
  {
   "cell_type": "code",
   "execution_count": null,
   "metadata": {},
   "outputs": [],
   "source": []
  }
 ],
 "metadata": {
  "kernelspec": {
   "display_name": ".venv",
   "language": "python",
   "name": "python3"
  },
  "language_info": {
   "codemirror_mode": {
    "name": "ipython",
    "version": 3
   },
   "file_extension": ".py",
   "mimetype": "text/x-python",
   "name": "python",
   "nbconvert_exporter": "python",
   "pygments_lexer": "ipython3",
   "version": "3.8.8"
  }
 },
 "nbformat": 4,
 "nbformat_minor": 2
}
