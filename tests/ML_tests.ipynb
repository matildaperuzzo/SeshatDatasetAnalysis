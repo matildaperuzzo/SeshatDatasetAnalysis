{
 "cells": [
  {
   "cell_type": "code",
   "execution_count": 39,
   "metadata": {},
   "outputs": [],
   "source": [
    "import sys\n",
    "import os\n",
    "import numpy as np\n",
    "import pandas as pd\n",
    "import matplotlib.pyplot as plt\n",
    "\n",
    "# Add the src directory t\\ the Python path\n",
    "\n",
    "sys.path.append(os.path.abspath(os.path.join(os.getcwd(), '..')))\n",
    "# Now you can import the TimeSeriesDataset class\n",
    "from src.TimeSeriesDataset import TimeSeriesDataset as TSD\n",
    "from src.utils import download_data, weighted_mean\n",
    "from src.mappings import value_mapping, ideology_mapping, social_complexity_mapping"
   ]
  },
  {
   "cell_type": "code",
   "execution_count": 40,
   "metadata": {},
   "outputs": [
    {
     "name": "stdout",
     "output_type": "stream",
     "text": [
      "Dataset loaded from ../datasets/PT_dataset_imputed.xlsx\n"
     ]
    }
   ],
   "source": [
    "dataset_PT = TSD(categories=['sc'], file_path=\"../datasets/PT_dataset_imputed.csv\")"
   ]
  },
  {
   "cell_type": "code",
   "execution_count": 47,
   "metadata": {},
   "outputs": [],
   "source": [
    "scale_cols = ['Pop','Terr','Cap','Hierarchy']\n",
    "non_scale_cols = ['Government', 'Infrastructure', 'Information', 'Money','MSP']\n",
    "input_cols = scale_cols + non_scale_cols\n",
    "crisis_cols = ['overturn', 'predecessor_assassination', 'intra_elite',\n",
    "       'military_revolt', 'popular_uprising', 'separatist_rebellion',\n",
    "       'external_invasion', 'external_interference']\n",
    "for col in crisis_cols:\n",
    "    dataset_PT.scv_imputed[col] = np.nan\n",
    "for ind, row in dataset_PT.scv_imputed.iterrows():\n",
    "    for col in crisis_cols:\n",
    "        try:\n",
    "            col_value = dataset_PT.scv.loc[(dataset_PT.scv.PolityID == row.PolityID)&(dataset_PT.scv.Year == row.Year), col].values[0]\n",
    "        except:\n",
    "            print(row.PolityID, row.Year)\n",
    "            continue\n",
    "        dataset_PT.scv_imputed.loc[ind, col] = col_value"
   ]
  },
  {
   "cell_type": "code",
   "execution_count": 48,
   "metadata": {},
   "outputs": [
    {
     "data": {
      "text/plain": [
       "Index(['NGA', 'PolityID', 'PolityName', 'Year', 'Pop', 'Terr', 'Cap',\n",
       "       'Hierarchy', 'Hierarchy_sq', 'Government', 'Infrastructure',\n",
       "       'Information', 'Money', 'dataset', 'MSP', 'Crisis', 'Scale_1', 'Inst_1',\n",
       "       'Comp', 'overturn', 'predecessor_assassination', 'intra_elite',\n",
       "       'military_revolt', 'popular_uprising', 'separatist_rebellion',\n",
       "       'external_invasion', 'external_interference'],\n",
       "      dtype='object')"
      ]
     },
     "execution_count": 48,
     "metadata": {},
     "output_type": "execute_result"
    }
   ],
   "source": [
    "dataset_PT.scv_imputed[crisis_cols] = dataset_PT.scv_imputed[crisis_cols].fillna(0)\n",
    "dataset_PT.scv_imputed.dropna(subset=input_cols, inplace=True)\n",
    "dataset_PT.scv_imputed.reset_index(drop=True, inplace=True)\n",
    "dataset_PT.scv_imputed.columns"
   ]
  },
  {
   "cell_type": "code",
   "execution_count": 51,
   "metadata": {},
   "outputs": [
    {
     "name": "stdout",
     "output_type": "stream",
     "text": [
      "              precision    recall  f1-score   support\n",
      "\n",
      "           0       0.51      0.44      0.47        98\n",
      "           1       0.38      0.17      0.23        65\n",
      "           2       0.52      0.52      0.52       100\n",
      "           3       0.43      0.24      0.31        50\n",
      "           4       0.55      0.40      0.46        15\n",
      "           5       0.00      0.00      0.00        12\n",
      "           6       0.53      0.19      0.28        42\n",
      "           7       0.00      0.00      0.00        29\n",
      "\n",
      "   micro avg       0.49      0.32      0.39       411\n",
      "   macro avg       0.36      0.24      0.28       411\n",
      "weighted avg       0.43      0.32      0.36       411\n",
      " samples avg       0.20      0.16      0.16       411\n",
      "\n",
      "Feature ranking:\n",
      "1. feature 0 (0.536700)\n",
      "2. feature 1 (0.463300)\n"
     ]
    },
    {
     "name": "stderr",
     "output_type": "stream",
     "text": [
      "/Users/mperuzzo/Documents/repos/SeshatDatasetAnalysis/.venv/lib/python3.11/site-packages/sklearn/metrics/_classification.py:1471: UndefinedMetricWarning: Precision and F-score are ill-defined and being set to 0.0 in labels with no predicted samples. Use `zero_division` parameter to control this behavior.\n",
      "  _warn_prf(average, modifier, msg_start, len(result))\n",
      "/Users/mperuzzo/Documents/repos/SeshatDatasetAnalysis/.venv/lib/python3.11/site-packages/sklearn/metrics/_classification.py:1471: UndefinedMetricWarning: Precision and F-score are ill-defined and being set to 0.0 in samples with no predicted labels. Use `zero_division` parameter to control this behavior.\n",
      "  _warn_prf(average, modifier, msg_start, len(result))\n",
      "/Users/mperuzzo/Documents/repos/SeshatDatasetAnalysis/.venv/lib/python3.11/site-packages/sklearn/metrics/_classification.py:1471: UndefinedMetricWarning: Recall and F-score are ill-defined and being set to 0.0 in samples with no true labels. Use `zero_division` parameter to control this behavior.\n",
      "  _warn_prf(average, modifier, msg_start, len(result))\n"
     ]
    },
    {
     "data": {
      "image/png": "[encoded data removed]",
      "text/plain": [
       "<Figure size 640x480 with 1 Axes>"
      ]
     },
     "metadata": {},
     "output_type": "display_data"
    }
   ],
   "source": [
    "input_cols = ['Scale_1','Inst_1']\n",
    "df_x = dataset_PT.scv_imputed[input_cols]\n",
    "df_y = dataset_PT.scv_imputed[crisis_cols]\n",
    "df_y = df_y.astype(int)\n",
    "\n",
    "from sklearn.model_selection import train_test_split\n",
    "from sklearn.preprocessing import StandardScaler\n",
    "\n",
    "X_train, X_test, y_train, y_test = train_test_split(df_x, df_y, test_size=0.2, random_state=42)\n",
    "scaler = StandardScaler()\n",
    "X_train = scaler.fit_transform(X_train)\n",
    "X_test = scaler.transform(X_test)\n",
    "\n",
    "from sklearn.ensemble import RandomForestClassifier\n",
    "from sklearn.metrics import classification_report, confusion_matrix\n",
    "\n",
    "rfc = RandomForestClassifier(n_estimators=200)\n",
    "rfc.fit(X_train, y_train)\n",
    "rfc_pred = rfc.predict(X_test)\n",
    "print(classification_report(y_test, rfc_pred))\n",
    "# print(confusion_matrix(y_test, rfc_pred))\n",
    "\n",
    "importances = rfc.feature_importances_\n",
    "std = np.std([tree.feature_importances_ for tree in rfc.estimators_], axis=0)\n",
    "indices = np.argsort(importances)[::-1]\n",
    "\n",
    "# Print the feature ranking\n",
    "print(\"Feature ranking:\")\n",
    "for f in range(X_train.shape[1]):\n",
    "    print(\"%d. feature %d (%f)\" % (f + 1, indices[f], importances[indices[f]]))\n",
    "\n",
    "\n",
    "# Plot the feature importances of the forest\n",
    "plt.figure()\n",
    "plt.title(\"Feature importances\")\n",
    "plt.bar(range(X_train.shape[1]), importances[indices], color=\"r\", yerr=std[indices], align=\"center\")\n",
    "plt.xticks(range(X_train.shape[1]), indices)\n",
    "plt.xlim([-1, X_train.shape[1]])\n",
    "plt.show()\n"
   ]
  },
  {
   "cell_type": "code",
   "execution_count": 50,
   "metadata": {},
   "outputs": [
    {
     "data": {
      "text/plain": [
       "['Pop',\n",
       " 'Terr',\n",
       " 'Cap',\n",
       " 'Hierarchy',\n",
       " 'Government',\n",
       " 'Infrastructure',\n",
       " 'Information',\n",
       " 'Money',\n",
       " 'MSP']"
      ]
     },
     "execution_count": 50,
     "metadata": {},
     "output_type": "execute_result"
    }
   ],
   "source": [
    "input_cols"
   ]
  },
  {
   "cell_type": "code",
   "execution_count": null,
   "metadata": {},
   "outputs": [],
   "source": []
  }
 ],
 "metadata": {
  "kernelspec": {
   "display_name": ".venv",
   "language": "python",
   "name": "python3"
  },
  "language_info": {
   "codemirror_mode": {
    "name": "ipython",
    "version": 3
   },
   "file_extension": ".py",
   "mimetype": "text/x-python",
   "name": "python",
   "nbconvert_exporter": "python",
   "pygments_lexer": "ipython3",
   "version": "3.11.9"
  }
 },
 "nbformat": 4,
 "nbformat_minor": 2
}
