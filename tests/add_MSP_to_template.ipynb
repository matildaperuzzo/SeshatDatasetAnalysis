{
 "cells": [
  {
   "cell_type": "code",
   "execution_count": 1,
   "metadata": {},
   "outputs": [],
   "source": [
    "import sys\n",
    "import os\n",
    "import pandas as pd\n",
    "import numpy as np\n",
    "import matplotlib.pyplot as plt\n",
    "\n",
    "# Add the src directory to the Python path\n",
    "\n",
    "sys.path.append(os.path.abspath(os.path.join(os.getcwd(), '..')))\n",
    "from src.Template import Template\n",
    "from src.utils import download_data\n",
    "from src.mappings import ideology_mapping"
   ]
  },
  {
   "cell_type": "code",
   "execution_count": 2,
   "metadata": {},
   "outputs": [
    {
     "name": "stdout",
     "output_type": "stream",
     "text": [
      "Loaded template from ../datasets/test.csv\n"
     ]
    }
   ],
   "source": [
    "template = Template(categories = ['sc'], file_path= '../datasets/test.csv')\n"
   ]
  },
  {
   "cell_type": "code",
   "execution_count": 3,
   "metadata": {},
   "outputs": [
    {
     "name": "stdout",
     "output_type": "stream",
     "text": [
      "Downloaded 839 rows\n"
     ]
    }
   ],
   "source": [
    "df = pd.read_csv('../datasets/Equinox2020.05.2023_MSP.csv', sep = '|')\n",
    "polity_df = download_data(\"https://seshatdata.com/api/core/polities/\")"
   ]
  },
  {
   "cell_type": "code",
   "execution_count": 4,
   "metadata": {},
   "outputs": [],
   "source": [
    "column_mappings = {}\n",
    "for column in df.columns:\n",
    "    column_mappings[column] = column.lower().replace('.', '_').replace('-', '_')\n",
    "column_mappings['Date.From'] = 'year_from'\n",
    "column_mappings['Date.To'] = 'year_to'\n",
    "column_mappings['Variable'] = 'name'\n",
    "df.rename(columns=column_mappings, inplace=True)"
   ]
  },
  {
   "cell_type": "code",
   "execution_count": 5,
   "metadata": {},
   "outputs": [],
   "source": [
    "df['polity_id'] = df.apply(lambda x: int(polity_df.loc[polity_df['name'] == x['polity'], 'id'].values[0]) if x['polity'] in polity_df['name'].values else None, axis=1)\n",
    "df = df[df.polity_id.notna()]\n",
    "df.polity_id = df.polity_id.astype(int)\n",
    "\n",
    "df['polity_new_name'] = df.apply(lambda x: polity_df.loc[polity_df['id'] == x['polity_id'], 'new_name'].values[0] if x['polity_id'] in polity_df['id'].values else None, axis=1)"
   ]
  },
  {
   "cell_type": "code",
   "execution_count": 6,
   "metadata": {},
   "outputs": [],
   "source": [
    "df['is_disputed'] = False\n",
    "df['is_uncertain'] = df.value_note.apply(lambda x: True if x == 'uncertain' else False)"
   ]
  },
  {
   "cell_type": "code",
   "execution_count": 7,
   "metadata": {},
   "outputs": [
    {
     "name": "stdout",
     "output_type": "stream",
     "text": [
      "moral-concern-is-primary\n"
     ]
    },
    {
     "name": "stderr",
     "output_type": "stream",
     "text": [
      "/var/folders/c3/82t48qlj2bg0xttc4k7vx70r0000gq/T/ipykernel_27835/4136551396.py:9: SettingWithCopyWarning: \n",
      "A value is trying to be set on a copy of a slice from a DataFrame.\n",
      "Try using .loc[row_indexer,col_indexer] = value instead\n",
      "\n",
      "See the caveats in the documentation: https://pandas.pydata.org/pandas-docs/stable/user_guide/indexing.html#returning-a-view-versus-a-copy\n",
      "  var_df.name = variable\n",
      "/var/folders/c3/82t48qlj2bg0xttc4k7vx70r0000gq/T/ipykernel_27835/4136551396.py:10: SettingWithCopyWarning: \n",
      "A value is trying to be set on a copy of a slice from a DataFrame\n",
      "\n",
      "See the caveats in the documentation: https://pandas.pydata.org/pandas-docs/stable/user_guide/indexing.html#returning-a-view-versus-a-copy\n",
      "  var_df.rename(columns={'value_from': variable}, inplace=True)\n"
     ]
    },
    {
     "name": "stdout",
     "output_type": "stream",
     "text": [
      "Added moral-concern-is-primary dataset to template\n",
      "moralizing-enforcement-is-certain\n"
     ]
    },
    {
     "name": "stderr",
     "output_type": "stream",
     "text": [
      "/var/folders/c3/82t48qlj2bg0xttc4k7vx70r0000gq/T/ipykernel_27835/4136551396.py:9: SettingWithCopyWarning: \n",
      "A value is trying to be set on a copy of a slice from a DataFrame.\n",
      "Try using .loc[row_indexer,col_indexer] = value instead\n",
      "\n",
      "See the caveats in the documentation: https://pandas.pydata.org/pandas-docs/stable/user_guide/indexing.html#returning-a-view-versus-a-copy\n",
      "  var_df.name = variable\n",
      "/var/folders/c3/82t48qlj2bg0xttc4k7vx70r0000gq/T/ipykernel_27835/4136551396.py:10: SettingWithCopyWarning: \n",
      "A value is trying to be set on a copy of a slice from a DataFrame\n",
      "\n",
      "See the caveats in the documentation: https://pandas.pydata.org/pandas-docs/stable/user_guide/indexing.html#returning-a-view-versus-a-copy\n",
      "  var_df.rename(columns={'value_from': variable}, inplace=True)\n"
     ]
    },
    {
     "name": "stdout",
     "output_type": "stream",
     "text": [
      "Added moralizing-enforcement-is-certain dataset to template\n",
      "moralizing-norms-are-broad\n",
      "Added moralizing-norms-are-broad dataset to template\n",
      "moralizing-enforcement-is-targeted\n"
     ]
    },
    {
     "name": "stderr",
     "output_type": "stream",
     "text": [
      "/var/folders/c3/82t48qlj2bg0xttc4k7vx70r0000gq/T/ipykernel_27835/4136551396.py:9: SettingWithCopyWarning: \n",
      "A value is trying to be set on a copy of a slice from a DataFrame.\n",
      "Try using .loc[row_indexer,col_indexer] = value instead\n",
      "\n",
      "See the caveats in the documentation: https://pandas.pydata.org/pandas-docs/stable/user_guide/indexing.html#returning-a-view-versus-a-copy\n",
      "  var_df.name = variable\n",
      "/var/folders/c3/82t48qlj2bg0xttc4k7vx70r0000gq/T/ipykernel_27835/4136551396.py:10: SettingWithCopyWarning: \n",
      "A value is trying to be set on a copy of a slice from a DataFrame\n",
      "\n",
      "See the caveats in the documentation: https://pandas.pydata.org/pandas-docs/stable/user_guide/indexing.html#returning-a-view-versus-a-copy\n",
      "  var_df.rename(columns={'value_from': variable}, inplace=True)\n",
      "/var/folders/c3/82t48qlj2bg0xttc4k7vx70r0000gq/T/ipykernel_27835/4136551396.py:9: SettingWithCopyWarning: \n",
      "A value is trying to be set on a copy of a slice from a DataFrame.\n",
      "Try using .loc[row_indexer,col_indexer] = value instead\n",
      "\n",
      "See the caveats in the documentation: https://pandas.pydata.org/pandas-docs/stable/user_guide/indexing.html#returning-a-view-versus-a-copy\n",
      "  var_df.name = variable\n",
      "/var/folders/c3/82t48qlj2bg0xttc4k7vx70r0000gq/T/ipykernel_27835/4136551396.py:10: SettingWithCopyWarning: \n",
      "A value is trying to be set on a copy of a slice from a DataFrame\n",
      "\n",
      "See the caveats in the documentation: https://pandas.pydata.org/pandas-docs/stable/user_guide/indexing.html#returning-a-view-versus-a-copy\n",
      "  var_df.rename(columns={'value_from': variable}, inplace=True)\n"
     ]
    },
    {
     "name": "stdout",
     "output_type": "stream",
     "text": [
      "Added moralizing-enforcement-is-targeted dataset to template\n",
      "moralizing-enforcement-of-rulers\n"
     ]
    },
    {
     "name": "stderr",
     "output_type": "stream",
     "text": [
      "/var/folders/c3/82t48qlj2bg0xttc4k7vx70r0000gq/T/ipykernel_27835/4136551396.py:9: SettingWithCopyWarning: \n",
      "A value is trying to be set on a copy of a slice from a DataFrame.\n",
      "Try using .loc[row_indexer,col_indexer] = value instead\n",
      "\n",
      "See the caveats in the documentation: https://pandas.pydata.org/pandas-docs/stable/user_guide/indexing.html#returning-a-view-versus-a-copy\n",
      "  var_df.name = variable\n",
      "/var/folders/c3/82t48qlj2bg0xttc4k7vx70r0000gq/T/ipykernel_27835/4136551396.py:10: SettingWithCopyWarning: \n",
      "A value is trying to be set on a copy of a slice from a DataFrame\n",
      "\n",
      "See the caveats in the documentation: https://pandas.pydata.org/pandas-docs/stable/user_guide/indexing.html#returning-a-view-versus-a-copy\n",
      "  var_df.rename(columns={'value_from': variable}, inplace=True)\n"
     ]
    },
    {
     "name": "stdout",
     "output_type": "stream",
     "text": [
      "Added moralizing-enforcement-of-rulers dataset to template\n",
      "moralizing-religion-adopted-by-elites\n"
     ]
    },
    {
     "name": "stderr",
     "output_type": "stream",
     "text": [
      "/var/folders/c3/82t48qlj2bg0xttc4k7vx70r0000gq/T/ipykernel_27835/4136551396.py:9: SettingWithCopyWarning: \n",
      "A value is trying to be set on a copy of a slice from a DataFrame.\n",
      "Try using .loc[row_indexer,col_indexer] = value instead\n",
      "\n",
      "See the caveats in the documentation: https://pandas.pydata.org/pandas-docs/stable/user_guide/indexing.html#returning-a-view-versus-a-copy\n",
      "  var_df.name = variable\n",
      "/var/folders/c3/82t48qlj2bg0xttc4k7vx70r0000gq/T/ipykernel_27835/4136551396.py:10: SettingWithCopyWarning: \n",
      "A value is trying to be set on a copy of a slice from a DataFrame\n",
      "\n",
      "See the caveats in the documentation: https://pandas.pydata.org/pandas-docs/stable/user_guide/indexing.html#returning-a-view-versus-a-copy\n",
      "  var_df.rename(columns={'value_from': variable}, inplace=True)\n"
     ]
    },
    {
     "name": "stdout",
     "output_type": "stream",
     "text": [
      "Added moralizing-religion-adopted-by-elites dataset to template\n",
      "moralizing-religion-adopted-by-commoners\n"
     ]
    },
    {
     "name": "stderr",
     "output_type": "stream",
     "text": [
      "/var/folders/c3/82t48qlj2bg0xttc4k7vx70r0000gq/T/ipykernel_27835/4136551396.py:9: SettingWithCopyWarning: \n",
      "A value is trying to be set on a copy of a slice from a DataFrame.\n",
      "Try using .loc[row_indexer,col_indexer] = value instead\n",
      "\n",
      "See the caveats in the documentation: https://pandas.pydata.org/pandas-docs/stable/user_guide/indexing.html#returning-a-view-versus-a-copy\n",
      "  var_df.name = variable\n",
      "/var/folders/c3/82t48qlj2bg0xttc4k7vx70r0000gq/T/ipykernel_27835/4136551396.py:10: SettingWithCopyWarning: \n",
      "A value is trying to be set on a copy of a slice from a DataFrame\n",
      "\n",
      "See the caveats in the documentation: https://pandas.pydata.org/pandas-docs/stable/user_guide/indexing.html#returning-a-view-versus-a-copy\n",
      "  var_df.rename(columns={'value_from': variable}, inplace=True)\n"
     ]
    },
    {
     "name": "stdout",
     "output_type": "stream",
     "text": [
      "Added moralizing-religion-adopted-by-commoners dataset to template\n",
      "moralizing-enforcement-in-afterlife\n"
     ]
    },
    {
     "name": "stderr",
     "output_type": "stream",
     "text": [
      "/var/folders/c3/82t48qlj2bg0xttc4k7vx70r0000gq/T/ipykernel_27835/4136551396.py:9: SettingWithCopyWarning: \n",
      "A value is trying to be set on a copy of a slice from a DataFrame.\n",
      "Try using .loc[row_indexer,col_indexer] = value instead\n",
      "\n",
      "See the caveats in the documentation: https://pandas.pydata.org/pandas-docs/stable/user_guide/indexing.html#returning-a-view-versus-a-copy\n",
      "  var_df.name = variable\n",
      "/var/folders/c3/82t48qlj2bg0xttc4k7vx70r0000gq/T/ipykernel_27835/4136551396.py:10: SettingWithCopyWarning: \n",
      "A value is trying to be set on a copy of a slice from a DataFrame\n",
      "\n",
      "See the caveats in the documentation: https://pandas.pydata.org/pandas-docs/stable/user_guide/indexing.html#returning-a-view-versus-a-copy\n",
      "  var_df.rename(columns={'value_from': variable}, inplace=True)\n"
     ]
    },
    {
     "name": "stdout",
     "output_type": "stream",
     "text": [
      "Added moralizing-enforcement-in-afterlife dataset to template\n",
      "moralizing-enforcement-in-this-life\n"
     ]
    },
    {
     "name": "stderr",
     "output_type": "stream",
     "text": [
      "/var/folders/c3/82t48qlj2bg0xttc4k7vx70r0000gq/T/ipykernel_27835/4136551396.py:9: SettingWithCopyWarning: \n",
      "A value is trying to be set on a copy of a slice from a DataFrame.\n",
      "Try using .loc[row_indexer,col_indexer] = value instead\n",
      "\n",
      "See the caveats in the documentation: https://pandas.pydata.org/pandas-docs/stable/user_guide/indexing.html#returning-a-view-versus-a-copy\n",
      "  var_df.name = variable\n",
      "/var/folders/c3/82t48qlj2bg0xttc4k7vx70r0000gq/T/ipykernel_27835/4136551396.py:10: SettingWithCopyWarning: \n",
      "A value is trying to be set on a copy of a slice from a DataFrame\n",
      "\n",
      "See the caveats in the documentation: https://pandas.pydata.org/pandas-docs/stable/user_guide/indexing.html#returning-a-view-versus-a-copy\n",
      "  var_df.rename(columns={'value_from': variable}, inplace=True)\n"
     ]
    },
    {
     "name": "stdout",
     "output_type": "stream",
     "text": [
      "Added moralizing-enforcement-in-this-life dataset to template\n",
      "moralizing-enforcement-is-agentic\n"
     ]
    },
    {
     "name": "stderr",
     "output_type": "stream",
     "text": [
      "/var/folders/c3/82t48qlj2bg0xttc4k7vx70r0000gq/T/ipykernel_27835/4136551396.py:9: SettingWithCopyWarning: \n",
      "A value is trying to be set on a copy of a slice from a DataFrame.\n",
      "Try using .loc[row_indexer,col_indexer] = value instead\n",
      "\n",
      "See the caveats in the documentation: https://pandas.pydata.org/pandas-docs/stable/user_guide/indexing.html#returning-a-view-versus-a-copy\n",
      "  var_df.name = variable\n",
      "/var/folders/c3/82t48qlj2bg0xttc4k7vx70r0000gq/T/ipykernel_27835/4136551396.py:10: SettingWithCopyWarning: \n",
      "A value is trying to be set on a copy of a slice from a DataFrame\n",
      "\n",
      "See the caveats in the documentation: https://pandas.pydata.org/pandas-docs/stable/user_guide/indexing.html#returning-a-view-versus-a-copy\n",
      "  var_df.rename(columns={'value_from': variable}, inplace=True)\n"
     ]
    },
    {
     "name": "stdout",
     "output_type": "stream",
     "text": [
      "Added moralizing-enforcement-is-agentic dataset to template\n"
     ]
    }
   ],
   "source": [
    "variables = df.name.unique()\n",
    "\n",
    "for variable in variables:\n",
    "    var_df = df.loc[df['name'] == variable]\n",
    "    variable = variable.replace(' ', '-').lower()\n",
    "    if (variable in ideology_mapping['MSP'].keys()):\n",
    "        print(variable)\n",
    "        variable = variable.lower()\n",
    "        var_df.name = variable\n",
    "        var_df.rename(columns={'value_from': variable}, inplace=True)\n",
    "        template.add_to_template(var_df, variable)"
   ]
  },
  {
   "cell_type": "code",
   "execution_count": 8,
   "metadata": {},
   "outputs": [
    {
     "name": "stdout",
     "output_type": "stream",
     "text": [
      "Saved template to ../datasets/MSP_template.csv\n"
     ]
    }
   ],
   "source": [
    "template.save_dataset(\"../datasets/MSP_template.csv\")"
   ]
  },
  {
   "cell_type": "code",
   "execution_count": null,
   "metadata": {},
   "outputs": [],
   "source": []
  }
 ],
 "metadata": {
  "kernelspec": {
   "display_name": ".venv",
   "language": "python",
   "name": "python3"
  },
  "language_info": {
   "codemirror_mode": {
    "name": "ipython",
    "version": 3
   },
   "file_extension": ".py",
   "mimetype": "text/x-python",
   "name": "python",
   "nbconvert_exporter": "python",
   "pygments_lexer": "ipython3",
   "version": "3.11.9"
  }
 },
 "nbformat": 4,
 "nbformat_minor": 2
}
